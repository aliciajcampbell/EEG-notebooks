{
 "cells": [
  {
   "attachments": {},
   "cell_type": "markdown",
   "metadata": {},
   "source": [
    "### (WIP) Resting State EEG: entropy and complexity features\n",
    "Time series analysis of resting state EEG signal using various entropy and complexity measures."
   ]
  },
  {
   "cell_type": "code",
   "execution_count": 1,
   "metadata": {},
   "outputs": [],
   "source": [
    "# Import packages\n",
    "import os, mne\n",
    "import numpy as np\n",
    "import pandas as pd\n",
    "import seaborn as sns\n",
    "import matplotlib.pyplot as plt\n",
    "import neurokit2 as nk\n",
    "\n",
    "# Set default directory\n",
    "os.chdir('/Users/tanijarv/Documents/GitHub/EEG-pyline')\n",
    "mne.set_log_level('error')\n",
    "\n",
    "# Import functions\n",
    "import basic.arrange_data as arrange"
   ]
  },
  {
   "attachments": {},
   "cell_type": "markdown",
   "metadata": {
    "pycharm": {
     "name": "#%% md\n"
    }
   },
   "source": [
    "Define these variables!"
   ]
  },
  {
   "cell_type": "code",
   "execution_count": 2,
   "metadata": {
    "pycharm": {
     "name": "#%%\n"
    }
   },
   "outputs": [],
   "source": [
    "# Folder where to get the clean epochs files\n",
    "clean_folder = 'Data/Clean/'\n",
    "\n",
    "# Folder where to save the results\n",
    "results_foldername = 'Results/'\n",
    "\n",
    "# Sub-folder for the experiment (i.e. timepoint or group) and its acronym\n",
    "exp_folder = 'OKTOS/Eyes Closed/Baseline'\n",
    "exp_condition = 'EC_00'"
   ]
  },
  {
   "attachments": {},
   "cell_type": "markdown",
   "metadata": {},
   "source": [
    "Run this to set the folders for data."
   ]
  },
  {
   "cell_type": "code",
   "execution_count": 3,
   "metadata": {},
   "outputs": [
    {
     "name": "stdout",
     "output_type": "stream",
     "text": [
      "Files in Data/Clean/OKTOS/Eyes Closed/Baseline read in: 1\n"
     ]
    }
   ],
   "source": [
    "# Get directories of clean EEG files and set export directory\n",
    "dir_inprogress = os.path.join(clean_folder,exp_folder)\n",
    "file_dirs, subject_names = arrange.read_files(dir_inprogress,'_clean-epo.fif')"
   ]
  },
  {
   "attachments": {},
   "cell_type": "markdown",
   "metadata": {},
   "source": [
    "Study we are replicating:\n",
    "- https://www.nature.com/articles/s41386-023-01586-4#Sec19\n",
    "\n",
    "Lempel-Ziv Compexity (LZC)\n",
    "- https://neuropsychology.github.io/NeuroKit/functions/complexity.html#neurokit2.complexity.complexity_lempelziv\n",
    "- Lempel, A., & Ziv, J. (1976). On the complexity of finite sequences. IEEE Transactions on information theory, 22(1), 75-81. https://doi.org/10.1109/TIT.1976.1055501\n",
    "- Zhang, Y., Hao, J., Zhou, C., & Chang, K. (2009). Normalized Lempel-Ziv complexity and its application in bio-sequence analysis. Journal of mathematical chemistry, 46(4), 1203-1212. https://doi.org/10.1007/s10910-008-9512-2\n",
    "\n",
    "Multiscale Sample Entropy (MSE)\n",
    "- https://neuropsychology.github.io/NeuroKit/functions/complexity.html#entropy-multiscale"
   ]
  },
  {
   "attachments": {},
   "cell_type": "markdown",
   "metadata": {},
   "source": [
    "\"Due to the sensitivity of sample entropy to signal length we computed MSE on non-overlapping 4 s epochs and averaged across the epochs to achieve the ﬁnal MSE estimate [50]. MSE was estimated using 20 scale factors, m of 2, and r of 0.5.\""
   ]
  },
  {
   "attachments": {},
   "cell_type": "markdown",
   "metadata": {},
   "source": [
    "dimension (m) : default is 3, paper uses 2\n",
    "\n",
    "tolerance (r) : default is 0.2*signal std, paper uses 0.5"
   ]
  },
  {
   "cell_type": "code",
   "execution_count": 97,
   "metadata": {},
   "outputs": [],
   "source": [
    "lzc_args = dict(symbolize='median')\n",
    "mse_args = dict(method='MSEn', scale=20, dimension=2, tolerance='sd')"
   ]
  },
  {
   "cell_type": "code",
   "execution_count": 98,
   "metadata": {},
   "outputs": [
    {
     "name": "stdout",
     "output_type": "stream",
     "text": [
      "\n",
      "OKTOS_0002_00A_EC in progress:\n"
     ]
    },
    {
     "data": {
      "text/html": [
       "<div>\n",
       "<style scoped>\n",
       "    .dataframe tbody tr th:only-of-type {\n",
       "        vertical-align: middle;\n",
       "    }\n",
       "\n",
       "    .dataframe tbody tr th {\n",
       "        vertical-align: top;\n",
       "    }\n",
       "\n",
       "    .dataframe thead th {\n",
       "        text-align: right;\n",
       "    }\n",
       "</style>\n",
       "<table border=\"1\" class=\"dataframe\">\n",
       "  <thead>\n",
       "    <tr style=\"text-align: right;\">\n",
       "      <th></th>\n",
       "      <th>LZC</th>\n",
       "      <th>MSE (total)</th>\n",
       "      <th>MSE (scale=1)</th>\n",
       "      <th>MSE (scale=2)</th>\n",
       "      <th>MSE (scale=3)</th>\n",
       "      <th>MSE (scale=4)</th>\n",
       "      <th>MSE (scale=5)</th>\n",
       "      <th>MSE (scale=6)</th>\n",
       "      <th>MSE (scale=7)</th>\n",
       "      <th>MSE (scale=8)</th>\n",
       "      <th>...</th>\n",
       "      <th>MSE (scale=11)</th>\n",
       "      <th>MSE (scale=12)</th>\n",
       "      <th>MSE (scale=13)</th>\n",
       "      <th>MSE (scale=14)</th>\n",
       "      <th>MSE (scale=15)</th>\n",
       "      <th>MSE (scale=16)</th>\n",
       "      <th>MSE (scale=17)</th>\n",
       "      <th>MSE (scale=18)</th>\n",
       "      <th>MSE (scale=19)</th>\n",
       "      <th>MSE (scale=20)</th>\n",
       "    </tr>\n",
       "  </thead>\n",
       "  <tbody>\n",
       "    <tr>\n",
       "      <th>OKTOS_0002_00A_EC</th>\n",
       "      <td>0.538633</td>\n",
       "      <td>1.51603</td>\n",
       "      <td>1.016817</td>\n",
       "      <td>1.565576</td>\n",
       "      <td>1.630699</td>\n",
       "      <td>1.640029</td>\n",
       "      <td>1.652695</td>\n",
       "      <td>1.670641</td>\n",
       "      <td>1.684769</td>\n",
       "      <td>1.684857</td>\n",
       "      <td>...</td>\n",
       "      <td>1.606246</td>\n",
       "      <td>1.584452</td>\n",
       "      <td>1.567727</td>\n",
       "      <td>1.591623</td>\n",
       "      <td>1.603369</td>\n",
       "      <td>1.584285</td>\n",
       "      <td>1.569502</td>\n",
       "      <td>1.550875</td>\n",
       "      <td>1.532057</td>\n",
       "      <td>1.536094</td>\n",
       "    </tr>\n",
       "  </tbody>\n",
       "</table>\n",
       "<p>1 rows × 22 columns</p>\n",
       "</div>"
      ],
      "text/plain": [
       "                        LZC  MSE (total)  MSE (scale=1)  MSE (scale=2)  \\\n",
       "OKTOS_0002_00A_EC  0.538633      1.51603       1.016817       1.565576   \n",
       "\n",
       "                   MSE (scale=3)  MSE (scale=4)  MSE (scale=5)  MSE (scale=6)  \\\n",
       "OKTOS_0002_00A_EC       1.630699       1.640029       1.652695       1.670641   \n",
       "\n",
       "                   MSE (scale=7)  MSE (scale=8)  ...  MSE (scale=11)  \\\n",
       "OKTOS_0002_00A_EC       1.684769       1.684857  ...        1.606246   \n",
       "\n",
       "                   MSE (scale=12)  MSE (scale=13)  MSE (scale=14)  \\\n",
       "OKTOS_0002_00A_EC        1.584452        1.567727        1.591623   \n",
       "\n",
       "                   MSE (scale=15)  MSE (scale=16)  MSE (scale=17)  \\\n",
       "OKTOS_0002_00A_EC        1.603369        1.584285        1.569502   \n",
       "\n",
       "                   MSE (scale=18)  MSE (scale=19)  MSE (scale=20)  \n",
       "OKTOS_0002_00A_EC        1.550875        1.532057        1.536094  \n",
       "\n",
       "[1 rows x 22 columns]"
      ]
     },
     "metadata": {},
     "output_type": "display_data"
    }
   ],
   "source": [
    "# Loop through all the subjects' directories (EEG files directories)\n",
    "df = pd.DataFrame(index=subject_names)\n",
    "for i in range(len(file_dirs)):\n",
    "    # Read the clean data from the disk\n",
    "    print('\\n{} in progress:'.format(subject_names[i]))\n",
    "    epochs = mne.read_epochs(fname='{}/{}_clean-epo.fif'.format(dir_inprogress, subject_names[i]),\n",
    "                                                                verbose=False)\n",
    "    \n",
    "    # Resample the data to 256 Hz & convert to dataframe\n",
    "    epochs = epochs.resample(sfreq=256)\n",
    "    df_epochs = epochs.to_data_frame()\n",
    "    \n",
    "    ### Lempel-Ziv complexity\n",
    "\n",
    "    # Go through all the channels signals\n",
    "    lzc_i = []\n",
    "    for ch in epochs.info['ch_names']:\n",
    "        # Go through all epochs in the current channel signal\n",
    "        lzc_ch = []\n",
    "        for epo in df_epochs['epoch'].unique():\n",
    "            # Calculate Lempel-Ziv Complexity (LZC) for the current epoch\n",
    "            epo_signal = df_epochs[df_epochs['epoch']==epo][ch]\n",
    "            lzc_epo, info = nk.complexity_lempelziv(epo_signal, **lzc_args)\n",
    "            lzc_ch.append(lzc_epo)\n",
    "        # Average all epochs' LZC values to get a single value for the channel & add to list\n",
    "        lzc_i.append(np.mean(lzc_ch))\n",
    "    # Average all the channels' LZC values to get a single value for the subject & add to master dataframe\n",
    "    lzc_i_mean = np.mean(lzc_i)\n",
    "    df.loc[subject_names[i], 'LZC'] = lzc_i_mean\n",
    "\n",
    "    ### Multiscale Sample Entropy\n",
    "\n",
    "    # Go through all the channels signals\n",
    "    mse_i = []\n",
    "    mse_vals_i = np.zeros(shape=(len(epochs.info['ch_names']), mse_args['scale']))\n",
    "    for c, ch in enumerate(epochs.info['ch_names']):\n",
    "        # Go through all epochs in the current channel signal\n",
    "        mse_ch = []\n",
    "        mse_vals_epo = []\n",
    "        for epo in df_epochs['epoch'].unique():\n",
    "            # Calculate Multiscale Sample Entropy (MSE) measures for the current epoch\n",
    "            epo_signal = df_epochs[df_epochs['epoch']==epo][ch]\n",
    "            mse_epo, info = nk.entropy_multiscale(epo_signal.to_numpy(), **mse_args)\n",
    "            # Get the total and scales' MSE values for the current epoch & add to list including all epochs\n",
    "            mse_ch.append(mse_epo)\n",
    "            mse_vals_epo.append(info.get('Value'))\n",
    "        # Average all epochs' MSE values for every channel for the subject\n",
    "        mse_vals_i[c] = np.mean(mse_vals_epo, axis=0)\n",
    "        # Average all epochs' MSE totals to get a single value for the channel & add to list\n",
    "        mse_i.append(np.mean(mse_ch))\n",
    "    # Average all the channels' MSE totals & values to get global value\n",
    "    mse_i_mean = np.mean(mse_i)\n",
    "    mse_vals_i_mean = np.mean(mse_vals_i, axis=0)\n",
    "    # Add total MSE to dataframe for the subject\n",
    "    df.loc[subject_names[i], 'MSE (total)'] = mse_i_mean\n",
    "    # Add all scales' MSE values to dataframe for the subject\n",
    "    for scl in range(mse_args['scale']):\n",
    "        df.loc[subject_names[i], 'MSE (scale={})'.format(scl+1)] = mse_vals_i_mean[scl]\n",
    "\n",
    "display(df)"
   ]
  }
 ],
 "metadata": {
  "kernelspec": {
   "display_name": "Python 3.9.13 ('EEG-pipeline-TI')",
   "language": "python",
   "name": "python3"
  },
  "language_info": {
   "codemirror_mode": {
    "name": "ipython",
    "version": 3
   },
   "file_extension": ".py",
   "mimetype": "text/x-python",
   "name": "python",
   "nbconvert_exporter": "python",
   "pygments_lexer": "ipython3",
   "version": "3.9.12"
  },
  "orig_nbformat": 4,
  "vscode": {
   "interpreter": {
    "hash": "7a57757abf3656da35bfbc8305ac62bd00e5fa58b0b8fef7bd72ac98b35a77f4"
   }
  }
 },
 "nbformat": 4,
 "nbformat_minor": 2
}
