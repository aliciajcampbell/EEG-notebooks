{
 "cells": [
  {
   "attachments": {},
   "cell_type": "markdown",
   "metadata": {},
   "source": [
    "### (WIP) Sustained Attention Response Time (SART) ERP analysis: peak detection and ERP identification\n",
    "The process of semi-automatically detecting peaks and telling the program whether the peaks are identified as correct ERPs or not. In case ERPs detected are right, the program moves to the next subject, but in case they are not, the user can manually set the ERPs."
   ]
  },
  {
   "cell_type": "code",
   "execution_count": null,
   "metadata": {
    "pycharm": {
     "name": "#%%\n"
    }
   },
   "outputs": [],
   "source": [
    "# Import packages\n",
    "import mne, os\n",
    "import numpy as np\n",
    "from cmath import nan\n",
    "import matplotlib.pyplot as plt\n",
    "import pandas as pd\n",
    "\n",
    "# Set the default directory\n",
    "os.chdir('/Users/tanijarv/Documents/GitHub/EEG-pyline')\n",
    "mne.set_log_level('error')\n",
    "\n",
    "# Import functions\n",
    "import basic.arrange_data as arrange\n",
    "import signal_processing.erp_analysis as erpan"
   ]
  },
  {
   "attachments": {},
   "cell_type": "markdown",
   "metadata": {},
   "source": [
    "Define these variables!"
   ]
  },
  {
   "cell_type": "code",
   "execution_count": null,
   "metadata": {
    "pycharm": {
     "name": "#%%\n"
    }
   },
   "outputs": [],
   "source": [
    "# Folder where to get the clean epochs files\n",
    "clean_folder = 'Data/Clean/'\n",
    "\n",
    "# Folder where to save the results and plots\n",
    "results_foldername = 'Results/'\n",
    "\n",
    "# Sub-folder for the experiment (i.e. timepoint or group) and its acronym\n",
    "exp_folder = 'LEISURE/T1/SART'\n",
    "exp_condition = 'SART_T1'\n",
    "\n",
    "tminmax = [-200, 1000]\n",
    "\n",
    "# Time windows for different ERP components\n",
    "# {'ERP_name' : [t1, t2, pos/neg]}\n",
    "erp_wins = {'N1' : [40, 170, -1],\n",
    "            'N2' : [180, 350, -1],\n",
    "            'P2' : [100, 260, 1],\n",
    "            'P3' : [270, 500, 1]}\n",
    "\n",
    "# Channel of interest\n",
    "channel_picks = 'Pz'\n",
    "\n",
    "# Event names (i.e. different stimuli) within the epochs\n",
    "event_list = ['GO trial', 'NO-GO trial']"
   ]
  },
  {
   "attachments": {},
   "cell_type": "markdown",
   "metadata": {},
   "source": [
    "Run this to set the folders for data."
   ]
  },
  {
   "cell_type": "code",
   "execution_count": null,
   "metadata": {},
   "outputs": [],
   "source": [
    "# Get directories of clean EEG files and set export directory\n",
    "dir_inprogress = os.path.join(clean_folder, exp_folder)\n",
    "file_dirs, subject_names = arrange.read_files(dir_inprogress, '_clean-epo.fif')"
   ]
  },
  {
   "attachments": {},
   "cell_type": "markdown",
   "metadata": {},
   "source": [
    "Run this to detect and identify ERP components."
   ]
  },
  {
   "cell_type": "code",
   "execution_count": null,
   "metadata": {},
   "outputs": [],
   "source": [
    "# Loop through all the subjects' directories (EEG files directories)\n",
    "df_erps = pd.DataFrame()\n",
    "arrange.create_results_folders(exp_folder=exp_folder,results_folder=results_foldername, erps=True)\n",
    "for i in range(len(file_dirs)):\n",
    "    erp_wins_temp = erp_wins\n",
    "    # Read the clean data from the disk\n",
    "    epochs = mne.read_epochs(fname='{}/{}_clean-epo.fif'.format(dir_inprogress, subject_names[i]), verbose=False)\n",
    "    \n",
    "    # Apply baseline correction\n",
    "    epochs = epochs.apply_baseline(baseline=(None, 0))\n",
    "\n",
    "    ### create loop here for going through GO and NO-GO's separately\n",
    "    for ev in event_list:\n",
    "        print('{} for {} ({}/{})'.format(ev, subject_names[i], i, len(file_dirs)))\n",
    "        # Create an averaged evoked object from epochs\n",
    "        evoked_signal = epochs[ev].average(picks=channel_picks)\n",
    "\n",
    "        # remove or add if save_evoked === truuuu\n",
    "        evoked_signal.save('{}/{}/ERP analysis/{}_{}_{}_evoked-ave.fif'.format(results_foldername, exp_folder,\n",
    "                                                                            subject_names[i], channel_picks,\n",
    "                                                                            ev), overwrite=True)\n",
    "\n",
    "        # Find all the peaks in the evoked signal\n",
    "        minpeak_times, minpeak_mags, maxpeak_times, maxpeak_mags = erpan.find_all_peaks(evoked_signal, epochs, \n",
    "                                                                                        t_range=tminmax, thresh=None,\n",
    "                                                                                        subject_name=subject_names[i],\n",
    "                                                                                        verbose=False, plot=False)\n",
    "        \n",
    "        # Identify which peaks are which ERPs based on the pre-defined ERP time windows\n",
    "        erp_peaks, not_erp_peaks = erpan.identify_erps(evoked_signal, erp_wins_temp, minpeak_times, minpeak_mags,\n",
    "                                                    maxpeak_times, maxpeak_mags, t_range=tminmax, subject_name=subject_names[i],\n",
    "                                                    verbose=False, plot=True, savefig=False,\n",
    "                                                    results_foldername=results_foldername, exp_folder=exp_folder)\n",
    "\n",
    "        # After visual inspection, it's possible to re-define the time windows to look for the peak\n",
    "        while input('Do you need to do any manual time window changes? (leave empty if \"no\")') != '':\n",
    "            print('Changing time window parameters for {}'.format(subject_names[i]))\n",
    "            new_time_win = [None, None, None]\n",
    "\n",
    "            # Ask user for which ERP they want to change or add\n",
    "            erp_tochange = input('What ERP time window you want to change (e.g., N1)?')\n",
    "\n",
    "            # Ask user what should be the minimum timepoint of the time window for that ERP\n",
    "            new_time_win[0] = int(input('Enter MIN time of the window in interest for {} (e.g., 50)'.format(erp_tochange)))\n",
    "\n",
    "            # Ask user what should be the maximum timepoint of the time window for that ERP\n",
    "            new_time_win[1] = int(input('Enter MAX time of the window in interest for {} (e.g., 100)'.format(erp_tochange)))\n",
    "\n",
    "            # Ask user whether this ERP should be a postitive (1) or negative (-1) peak\n",
    "            new_time_win[2] = int(input('Enter whether to look for MIN (-1) or MAX (1) voltage for {}'.format(erp_tochange)))\n",
    "\n",
    "            # Change the temporary ERP time window parameters to the user inputted parameters\n",
    "            erp_wins_temp[erp_tochange] = new_time_win\n",
    "            print('Changing', erp_tochange, 'with new time window:', str(new_time_win))\n",
    "\n",
    "            # Use these new parameters to find either minimum or maximum value in that range\n",
    "            try:\n",
    "                erp_peaks = erpan.find_minmax_erp(evoked_signal, erp_peaks, erp_tochange, new_time_win,\n",
    "                                                t_range=tminmax, subject_name=subject_names[i], verbose=False, plot=True,\n",
    "                                                savefig=False, results_foldername=results_foldername, exp_folder=exp_folder)\n",
    "            except:\n",
    "                print('Something went wrong with manual ERP detection, try again.')\n",
    "\n",
    "        # Add this/these new temporary ERP to the main dataframe\n",
    "        df_erps_temp = erpan.erp_dict_to_df(erp_peaks, erp_wins_temp, subject_names[i])\n",
    "        df_erps_temp['Event'] = ev\n",
    "        df_erps_temp['Channel'] = channel_picks\n",
    "        df_erps = pd.concat([df_erps, df_erps_temp])\n",
    "        print('ERPs have been found and added to the dataframe for {}'.format(subject_names[i]))\n",
    "        display(df_erps)\n",
    "\n",
    "# Calculate relative peak-to-peak amplitudes between the ERPs\n",
    "print('Adding relative amplitudes for N1-P2, P2-N2, N2-P3')\n",
    "df_erps['N1-P2 amplitude'] = df_erps['P2 amplitude'] - df_erps['N1 amplitude']\n",
    "df_erps['P2-N2 amplitude'] = df_erps['N2 amplitude'] - df_erps['P2 amplitude']\n",
    "df_erps['N2-P3 amplitude'] = df_erps['P3 amplitude'] - df_erps['N2 amplitude']\n",
    "\n",
    "# Export all the detected ERPs to an Excel spreadsheet\n",
    "display(df_erps)\n",
    "df_erps.to_excel('{}/{}/ERP analysis/{}_{}_grandaverage_erps.xlsx'.format(results_foldername,exp_folder,exp_condition,channel_picks))"
   ]
  }
 ],
 "metadata": {
  "kernelspec": {
   "display_name": "Python 3.9.13 ('EEG-pipeline-TI')",
   "language": "python",
   "name": "python3"
  },
  "language_info": {
   "codemirror_mode": {
    "name": "ipython",
    "version": 3
   },
   "file_extension": ".py",
   "mimetype": "text/x-python",
   "name": "python",
   "nbconvert_exporter": "python",
   "pygments_lexer": "ipython3",
   "version": "3.9.12"
  },
  "orig_nbformat": 4,
  "vscode": {
   "interpreter": {
    "hash": "7a57757abf3656da35bfbc8305ac62bd00e5fa58b0b8fef7bd72ac98b35a77f4"
   }
  }
 },
 "nbformat": 4,
 "nbformat_minor": 2
}
